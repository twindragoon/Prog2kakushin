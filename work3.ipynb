{
  "nbformat": 4,
  "nbformat_minor": 0,
  "metadata": {
    "colab": {
      "provenance": [],
      "authorship_tag": "ABX9TyMO2Qjq8MnErmFCW3ifYO2g",
      "include_colab_link": true
    },
    "kernelspec": {
      "name": "python3",
      "display_name": "Python 3"
    },
    "language_info": {
      "name": "python"
    }
  },
  "cells": [
    {
      "cell_type": "markdown",
      "metadata": {
        "id": "view-in-github",
        "colab_type": "text"
      },
      "source": [
        "<a href=\"https://colab.research.google.com/github/twindragoon/Prog2kakushin/blob/main/work3.ipynb\" target=\"_parent\"><img src=\"https://colab.research.google.com/assets/colab-badge.svg\" alt=\"Open In Colab\"/></a>"
      ]
    },
    {
      "cell_type": "markdown",
      "source": [
        "openCV/turtleパートです。\n",
        "\n",
        "> ここでは、turtleで描いたものを画像に変換、それをopenCVでいじろうという考えです。（まだ決まってないしなんなら大幅変更もある）\n",
        "\n"
      ],
      "metadata": {
        "id": "Uko5q5-azDXv"
      }
    },
    {
      "cell_type": "code",
      "execution_count": null,
      "metadata": {
        "id": "8DCYL0tfzApE"
      },
      "outputs": [],
      "source": []
    }
  ]
}