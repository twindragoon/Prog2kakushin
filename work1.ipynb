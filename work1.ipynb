{
  "nbformat": 4,
  "nbformat_minor": 0,
  "metadata": {
    "colab": {
      "provenance": [],
      "authorship_tag": "ABX9TyPy8FMEwCOOR7iTmaOYpk4E",
      "include_colab_link": true
    },
    "kernelspec": {
      "name": "python3",
      "display_name": "Python 3"
    },
    "language_info": {
      "name": "python"
    }
  },
  "cells": [
    {
      "cell_type": "markdown",
      "metadata": {
        "id": "view-in-github",
        "colab_type": "text"
      },
      "source": [
        "<a href=\"https://colab.research.google.com/github/twindragoon/Prog2kakushin/blob/main/work1.ipynb\" target=\"_parent\"><img src=\"https://colab.research.google.com/assets/colab-badge.svg\" alt=\"Open In Colab\"/></a>"
      ]
    },
    {
      "cell_type": "markdown",
      "source": [
        "これはpandasのものです。　\n",
        "pandasでは\n",
        "\n",
        "> 自作のルーレット（１～３６と０，００があるやつ）を用いてデータ解析をしたいと思っています。（だいぶアバウトだなｗ\n",
        "\n"
      ],
      "metadata": {
        "id": "NKQdcVwKx3A6"
      }
    },
    {
      "cell_type": "code",
      "execution_count": null,
      "metadata": {
        "id": "_3QDK3yuxvR1"
      },
      "outputs": [],
      "source": []
    }
  ]
}